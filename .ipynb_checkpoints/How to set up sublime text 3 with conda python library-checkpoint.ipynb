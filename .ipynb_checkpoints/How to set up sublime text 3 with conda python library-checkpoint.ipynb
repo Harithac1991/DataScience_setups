{
 "cells": [
  {
   "cell_type": "markdown",
   "metadata": {},
   "source": [
    "How to connect sublime text editor to Anaconda python\n"
   ]
  },
  {
   "cell_type": "markdown",
   "metadata": {},
   "source": [
    "    1.Install anaconda\n",
    "    2. Install sublime text executable version (not portable) "
   ]
  },
  {
   "cell_type": "markdown",
   "metadata": {},
   "source": [
    "Go to sublime create a .py file with hellow world print program. Goto Tools -> bulit with python\n",
    "If you get any error then python is not linked with sublime\n"
   ]
  },
  {
   "cell_type": "markdown",
   "metadata": {},
   "source": [
    "### How to link Anaconda python to sublime build\n"
   ]
  },
  {
   "cell_type": "markdown",
   "metadata": {},
   "source": [
    "Knowledge : \n",
    "\n",
    "x.sublime-build files are the files which helps to create bulding enviorments listed in tools\n",
    "\n",
    "X being the build name. Ex : if there is a file called mom.sublime-buld present in sublime directory, you may find mon in the list of Tools - > build with options\n",
    "\n",
    "To edit python buld source to anaconda python, you need to either create a new build file or edit the existing one.\n",
    "\n",
    "You may find these files in : \n",
    "C:\\Users\\<PROFILENAME>\\AppData\\Roaming\\Sublime Text 3\\Packages\\User \n",
    "\n",
    "\n",
    "if there is no file present with python.sublime-build name, that means you have not set up python with subline at all.\n",
    "Now edit the file create a file with content:\n",
    "\n",
    "\n",
    "\n"
   ]
  },
  {
   "cell_type": "code",
   "execution_count": null,
   "metadata": {},
   "outputs": [],
   "source": [
    "{\n",
    "    \"cmd\": [\"C:\\\\ProgramData\\\\Anaconda3\\\\python.exe\", \"-u\", \"$file\"],\n",
    "    \"selector\": \"source.python\",\n",
    "    \"file_regex\": \"^\\\\s*File \\\"(...*?)\\\", line ([0-9]*)\"\n",
    "    }\n"
   ]
  },
  {
   "cell_type": "markdown",
   "metadata": {},
   "source": [
    "General format for this is "
   ]
  },
  {
   "cell_type": "code",
   "execution_count": null,
   "metadata": {},
   "outputs": [],
   "source": [
    "\n",
    "\n",
    "{\n",
    "    \"cmd\": <PATH to python.exe file in \"\"> , \"-u\", \"$file\"],\n",
    "    \"selector\": \"source.python\",\n",
    "    \"file_regex\": \"^\\\\s*File \\\"(...*?)\\\", line ([0-9]*)\"\n",
    "    }\n"
   ]
  },
  {
   "cell_type": "markdown",
   "metadata": {},
   "source": [
    "to identify PATH to python.exe file , go command shell and type in \n"
   ]
  },
  {
   "cell_type": "code",
   "execution_count": null,
   "metadata": {},
   "outputs": [],
   "source": [
    "where conda"
   ]
  },
  {
   "cell_type": "markdown",
   "metadata": {},
   "source": [
    "\n",
    "this would give the path where anaconda installed. find python.exe file in it and do this\n",
    "https://stackoverflow.com/questions/46353215/import-error-dll-load-failed-in-jupyter-notebook-but-working-in-py-file"
   ]
  },
  {
   "cell_type": "markdown",
   "metadata": {},
   "source": [
    "- finally  save the code snippet as python.sublime-build or condapython.sublime-build file . \n",
    "-> Save the file and see if it is reflecting in \"Tools-> build with \" option"
   ]
  },
  {
   "cell_type": "markdown",
   "metadata": {},
   "source": [
    "repeat the test steps to check it is working \n",
    "- Open a new file in sublime\n",
    "- type in the following code "
   ]
  },
  {
   "cell_type": "code",
   "execution_count": null,
   "metadata": {},
   "outputs": [],
   "source": [
    "import pandas \n",
    "list = [1,2,3]\n",
    "print(list +2)"
   ]
  },
  {
   "cell_type": "markdown",
   "metadata": {},
   "source": [
    " - Save as test.py in local\n",
    " - Go to Tools -> build with -> \"New python build system you created\"\n",
    " "
   ]
  },
  {
   "cell_type": "code",
   "execution_count": null,
   "metadata": {},
   "outputs": [],
   "source": []
  }
 ],
 "metadata": {
  "kernelspec": {
   "display_name": "Python 3",
   "language": "python",
   "name": "python3"
  },
  "language_info": {
   "codemirror_mode": {
    "name": "ipython",
    "version": 3
   },
   "file_extension": ".py",
   "mimetype": "text/x-python",
   "name": "python",
   "nbconvert_exporter": "python",
   "pygments_lexer": "ipython3",
   "version": "3.8.5"
  }
 },
 "nbformat": 4,
 "nbformat_minor": 4
}
