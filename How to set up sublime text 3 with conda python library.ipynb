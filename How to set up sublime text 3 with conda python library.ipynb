{
 "cells": [
  {
   "cell_type": "markdown",
   "metadata": {},
   "source": [
    "# How to connect sublime text editor to Anaconda python\n"
   ]
  },
  {
   "cell_type": "markdown",
   "metadata": {},
   "source": [
    "  - Install anaconda\n",
    "  - Install sublime text executable version (not portable) "
   ]
  },
  {
   "cell_type": "markdown",
   "metadata": {},
   "source": [
    "- Go to sublime create a .py file with hellow world print program. \n",
    "- Goto Tools -> bulit with python\n",
    "- If you get any error then that means python is not linked with sublime tool\n"
   ]
  },
  {
   "cell_type": "markdown",
   "metadata": {},
   "source": [
    "### How to make/link Anaconda python as sublime  build\n"
   ]
  },
  {
   "cell_type": "markdown",
   "metadata": {},
   "source": [
    "Knowledge : \n",
    "\n",
    "- x.sublime-build files are the files which helps to create bulding enviorments listed in tools\n",
    "\n",
    "- X being the build name. Ex : if there is a file called mom.sublime-buld present in sublime directory, you may find mon in the list of Tools - > build with options\n",
    "\n",
    "- To edit python buld source to anaconda python, you need to either create a new build file or edit the existing one.\n",
    "\n",
    "- You may find these files in : C:\\Users\\<PROFILENAME>\\AppData\\Roaming\\Sublime Text 3\\Packages\\User \n",
    "\n",
    "\n",
    "- if there is no file present with python.sublime-build name, that means you have not set up python with subline at all.\n"
   ]
  },
  {
   "cell_type": "markdown",
   "metadata": {},
   "source": [
    "Now edit the file create a file with content:"
   ]
  },
  {
   "cell_type": "code",
   "execution_count": null,
   "metadata": {
    "collapsed": true
   },
   "outputs": [],
   "source": [
    "{\n",
    "    \"cmd\": [\"C:\\\\ProgramData\\\\Anaconda3\\\\python.exe\", \"-u\", \"$file\"],\n",
    "    \"selector\": \"source.python\",\n",
    "    \"file_regex\": \"^\\\\s*File \\\"(...*?)\\\", line ([0-9]*)\"\n",
    "    }\n"
   ]
  },
  {
   "cell_type": "markdown",
   "metadata": {},
   "source": [
    "General format for this is "
   ]
  },
  {
   "cell_type": "code",
   "execution_count": null,
   "metadata": {
    "collapsed": true
   },
   "outputs": [],
   "source": [
    "\n",
    "{\n",
    "    \"cmd\": <PATH to python.exe file in \"\"> , \"-u\", \"$file\"],\n",
    "    \"selector\": \"source.python\",\n",
    "    \"file_regex\": \"^\\\\s*File \\\"(...*?)\\\", line ([0-9]*)\"\n",
    "    }\n"
   ]
  },
  {
   "cell_type": "markdown",
   "metadata": {},
   "source": [
    "to identify PATH to python.exe file , go command shell and type in \n"
   ]
  },
  {
   "cell_type": "code",
   "execution_count": 2,
   "metadata": {
    "collapsed": true
   },
   "outputs": [
    {
     "ename": "SyntaxError",
     "evalue": "invalid syntax (<ipython-input-2-63d4c6977046>, line 1)",
     "output_type": "error",
     "traceback": [
      "\u001b[1;36m  File \u001b[1;32m\"<ipython-input-2-63d4c6977046>\"\u001b[1;36m, line \u001b[1;32m1\u001b[0m\n\u001b[1;33m    -> where conda\u001b[0m\n\u001b[1;37m    ^\u001b[0m\n\u001b[1;31mSyntaxError\u001b[0m\u001b[1;31m:\u001b[0m invalid syntax\n"
     ]
    }
   ],
   "source": [
    "where conda"
   ]
  },
  {
   "cell_type": "markdown",
   "metadata": {},
   "source": [
    "\n",
    "This would give the path where anaconda installed. find python.exe file in it and do this\n",
    "https://stackoverflow.com/questions/46353215/import-error-dll-load-failed-in-jupyter-notebook-but-working-in-py-file"
   ]
  },
  {
   "cell_type": "markdown",
   "metadata": {},
   "source": [
    "- finally  save the code snippet as python.sublime-build or condapython.sublime-build file . \n",
    "-> Save the file and see if it is reflecting in \"Tools-> build with \" option"
   ]
  },
  {
   "cell_type": "markdown",
   "metadata": {},
   "source": [
    "repeat the test steps to check it is working \n",
    "- Open a new file in sublime\n",
    "- type in the following code "
   ]
  },
  {
   "cell_type": "code",
   "execution_count": null,
   "metadata": {
    "collapsed": true
   },
   "outputs": [],
   "source": [
    "import pandas \n",
    "list = [1,2,3]\n",
    "print(list +2)"
   ]
  },
  {
   "cell_type": "markdown",
   "metadata": {},
   "source": [
    " - Save as test.py in local\n",
    " - Go to Tools -> build with -> \"New python build system you created\"\n",
    " "
   ]
  },
  {
   "cell_type": "markdown",
   "metadata": {},
   "source": [
    "### How to open Jupter notebook"
   ]
  },
  {
   "cell_type": "markdown",
   "metadata": {},
   "source": [
    "We could go to shell and type in jupter notebook which should idealy open the server endpoint where notbook is running.\n",
    "- But for any shell command you type should be identified by the system. Ex : if you type in \"python\" in shell command before installing python then error would : python is not recognized by the system.\n",
    "- Inorder to make it recognizable you need to add the python path/ conda path to environment variable\n",
    "-  whenever you type in : python , the system would go in \"path\" variable in environment variable section to see what is teh path for python.exe. \n",
    "- to run python.exe and it's functions, you need to add it Lib, Scripts paths too.\n",
    "- Same applies for jupyter notebook. Identify where jupyter.exe is and add it to the env variable list along the libraries\n",
    "- Once you add, go to shell and type in \"jupyter notebook\" and see the sever running in a port with unique tocken\n",
    "- OR, you may go to conda promt and do the same\n",
    "- The advantage of using shell to open jupter is that you can  open it from anywhere in the file system with base directory as current \n"
   ]
  },
  {
   "cell_type": "markdown",
   "metadata": {},
   "source": [
    "### Base activation "
   ]
  },
  {
   "cell_type": "markdown",
   "metadata": {},
   "source": [
    "Some times, thats not enough\n",
    " - For me,  have to activate \" base env\"  in system first to run the commands\n",
    " - This is because my conda is installed to c-> program files rather that C->user->app data -> roaming -> contonnum\n",
    " - So do \"activate base\" and then type \"Jupyter notebook\" to run jupyter"
   ]
  },
  {
   "cell_type": "code",
   "execution_count": null,
   "metadata": {
    "collapsed": true
   },
   "outputs": [],
   "source": []
  }
 ],
 "metadata": {
  "kernelspec": {
   "display_name": "Python 3",
   "language": "python",
   "name": "python3"
  },
  "language_info": {
   "codemirror_mode": {
    "name": "ipython",
    "version": 3
   },
   "file_extension": ".py",
   "mimetype": "text/x-python",
   "name": "python",
   "nbconvert_exporter": "python",
   "pygments_lexer": "ipython3",
   "version": "3.8.5"
  }
 },
 "nbformat": 4,
 "nbformat_minor": 4
}
